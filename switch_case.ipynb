{
 "cells": [
  {
   "cell_type": "code",
   "execution_count": 12,
   "metadata": {},
   "outputs": [
    {
     "data": {
      "text/plain": [
       "'value is 2'"
      ]
     },
     "execution_count": 12,
     "metadata": {},
     "output_type": "execute_result"
    }
   ],
   "source": [
    "def match_eg(value):\n",
    "    match value:\n",
    "        case 1:\n",
    "            return \"value is 1\"\n",
    "        case 2:\n",
    "            return \"value is 2\"\n",
    "        case _:\n",
    "            return \"default case\"\n",
    "        \n",
    "match_eg(int(input(\"Enter Testing Value: \")))"
   ]
  },
  {
   "cell_type": "code",
   "execution_count": 18,
   "metadata": {},
   "outputs": [
    {
     "name": "stdout",
     "output_type": "stream",
     "text": [
      "Origin\n",
      "X-axis at 5\n",
      "Y-axis at 7\n",
      "Point at (3, 4)\n",
      "Point at (-1, asad)\n"
     ]
    }
   ],
   "source": [
    "def point_position(point):\n",
    "    match point:\n",
    "        case (0, 0):\n",
    "            return \"Origin\"\n",
    "        case (x, 0):\n",
    "            return f\"X-axis at {x}\"\n",
    "        case (0, y):\n",
    "            return f\"Y-axis at {y}\"\n",
    "        case (x, y):\n",
    "            return f\"Point at ({x}, {y})\"\n",
    "        case _:\n",
    "            return \"Unknown point\"\n",
    "\n",
    "# Test the function\n",
    "print(point_position((0, 0)))  # Output: Origin\n",
    "print(point_position((5, 0)))  # Output: X-axis at 5\n",
    "print(point_position((0, 7)))  # Output: Y-axis at 7\n",
    "print(point_position((3, 4)))  # Output: Point at (3, 4)\n",
    "print(point_position((-1, \"asad\")))\n"
   ]
  },
  {
   "cell_type": "code",
   "execution_count": 23,
   "metadata": {},
   "outputs": [
    {
     "name": "stdout",
     "output_type": "stream",
     "text": [
      "Empty list\n",
      "List with two elements: 1 and 2\n",
      "List starting with 1, rest: [2, 3, 4, 5, 6, 7]\n",
      "Unrecognized format\n"
     ]
    }
   ],
   "source": [
    "def process_list(lst):\n",
    "    match lst:\n",
    "        case []:\n",
    "            return \"Empty list\"\n",
    "        case [first, second]:\n",
    "            return f\"List with two elements: {first} and {second}\"\n",
    "        case [first, *rest]:\n",
    "            return f\"List starting with {first}, rest: {rest}\"\n",
    "        case _:\n",
    "            return \"Unrecognized format\"\n",
    "\n",
    "print(process_list([]))              # Output: Empty list\n",
    "print(process_list([1, 2]))          # Output: List with two elements: 1 and 2\n",
    "print(process_list([1, 2, 3, 4,5,6,7]))    # Output: List starting with 1, rest: [2, 3, 4]\n",
    "print(process_list(\"asad\"))"
   ]
  },
  {
   "cell_type": "code",
   "execution_count": 27,
   "metadata": {},
   "outputs": [
    {
     "name": "stdout",
     "output_type": "stream",
     "text": [
      "Weekday\n",
      "Weekend\n",
      "Invalid day\n"
     ]
    }
   ],
   "source": [
    "def check_day(day):\n",
    "    match day:\n",
    "        case \"Monday\" | \"Tuesday\" | \"Wednesday\" | \"Thursday\" | \"Friday\":\n",
    "            return \"Weekday\"\n",
    "        case \"Saturday\" | \"Sunday\":\n",
    "            return \"Weekend\"\n",
    "        case _:\n",
    "            return \"Invalid day\"\n",
    "\n",
    "print(check_day(\"Monday\"))  # Output: Weekday\n",
    "print(check_day(\"Sunday\"))  # Output: Weekend\n",
    "print(check_day(\"Holiday\"))  # Output: Invalid day\n"
   ]
  },
  {
   "cell_type": "code",
   "execution_count": 30,
   "metadata": {},
   "outputs": [
    {
     "ename": "TypeError",
     "evalue": "Point() accepts 0 positional sub-patterns (2 given)",
     "output_type": "error",
     "traceback": [
      "\u001b[1;31m---------------------------------------------------------------------------\u001b[0m",
      "\u001b[1;31mTypeError\u001b[0m                                 Traceback (most recent call last)",
      "Cell \u001b[1;32mIn[30], line 10\u001b[0m\n\u001b[0;32m      8\u001b[0m \u001b[38;5;66;03m# Match the object `p`\u001b[39;00m\n\u001b[0;32m      9\u001b[0m \u001b[38;5;28;01mmatch\u001b[39;00m p:\n\u001b[1;32m---> 10\u001b[0m     \u001b[38;5;28;01mcase\u001b[39;00m Point(x, y):\n\u001b[0;32m     11\u001b[0m         \u001b[38;5;28mprint\u001b[39m(\u001b[38;5;124mf\u001b[39m\u001b[38;5;124m\"\u001b[39m\u001b[38;5;124mPoint at (\u001b[39m\u001b[38;5;132;01m{\u001b[39;00mx\u001b[38;5;132;01m}\u001b[39;00m\u001b[38;5;124m, \u001b[39m\u001b[38;5;132;01m{\u001b[39;00my\u001b[38;5;132;01m}\u001b[39;00m\u001b[38;5;124m)\u001b[39m\u001b[38;5;124m\"\u001b[39m)  \u001b[38;5;66;03m# Output: Point at (3, 4)\u001b[39;00m\n\u001b[0;32m     13\u001b[0m q \u001b[38;5;241m=\u001b[39m Point(\u001b[38;5;241m2\u001b[39m, \u001b[38;5;241m77\u001b[39m)\n",
      "\u001b[1;31mTypeError\u001b[0m: Point() accepts 0 positional sub-patterns (2 given)"
     ]
    }
   ],
   "source": [
    "class Point:\n",
    "    def __init__(self, x, y):\n",
    "        self.x = x\n",
    "        self.y = y\n",
    "\n",
    "p = Point(3, 4)\n",
    "\n",
    "# Match the object `p`\n",
    "match p:\n",
    "    case Point(x, y):\n",
    "        print(f\"Point at ({x}, {y})\")  # Output: Point at (3, 4)\n",
    "        \n",
    "q = Point(2, 77)\n",
    "\n",
    "# Match the object `q`\n",
    "match q:\n",
    "    case Point(x, y):\n",
    "        print(f\"Point at ({x}, {y})\")  # Output: Point at (2, 77)\n"
   ]
  },
  {
   "cell_type": "code",
   "execution_count": 31,
   "metadata": {},
   "outputs": [
    {
     "name": "stdout",
     "output_type": "stream",
     "text": [
      "Point at (3, 4)\n",
      "Point at (2, 77)\n"
     ]
    }
   ],
   "source": [
    "class Point:\n",
    "    def __init__(self, x, y):\n",
    "        self.x = x\n",
    "        self.y = y\n",
    "\n",
    "p = Point(3, 4)\n",
    "\n",
    "# Match using attribute patterns\n",
    "match p:\n",
    "    case Point(x=x, y=y):  # Match using attribute names\n",
    "        print(f\"Point at ({x}, {y})\")  # Output: Point at (3, 4)\n",
    "\n",
    "q = Point(2, 77)\n",
    "\n",
    "# Match the object `q` using attribute patterns\n",
    "match q:\n",
    "    case Point(x=x, y=y):\n",
    "        print(f\"Point at ({x}, {y})\")  # Output: Point at (2, 77)\n"
   ]
  }
 ],
 "metadata": {
  "kernelspec": {
   "display_name": "Python 3",
   "language": "python",
   "name": "python3"
  },
  "language_info": {
   "codemirror_mode": {
    "name": "ipython",
    "version": 3
   },
   "file_extension": ".py",
   "mimetype": "text/x-python",
   "name": "python",
   "nbconvert_exporter": "python",
   "pygments_lexer": "ipython3",
   "version": "3.12.4"
  }
 },
 "nbformat": 4,
 "nbformat_minor": 2
}
