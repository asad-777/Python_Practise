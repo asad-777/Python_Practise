{
 "cells": [
  {
   "cell_type": "code",
   "execution_count": 7,
   "metadata": {},
   "outputs": [
    {
     "name": "stdout",
     "output_type": "stream",
     "text": [
      "1 - 2 - 3 - 4 - \n",
      "1 - 2 - 3 - 4 - 6 - 7 - 8 - 9 - 10 - \n",
      "1 - 2 - 3 - 4 - "
     ]
    }
   ],
   "source": [
    "#continue\n",
    "#break\n",
    "#pass\n",
    "\n",
    "for x in range(1,11):\n",
    "    if x == 5:\n",
    "        break\n",
    "    print(x, end=\" - \")\n",
    "\n",
    "print()\n",
    "\n",
    "for i in range(1,11):\n",
    "    if i == 5:\n",
    "        continue\n",
    "    print(i , end=\" - \")\n",
    "\n",
    "print()\n",
    "\n",
    "for j in range(1,11):\n",
    "    if j == 5:\n",
    "        break\n",
    "    pass # pass is actually useless\n",
    "    print(j, end=\" - \")"
   ]
  }
 ],
 "metadata": {
  "kernelspec": {
   "display_name": "Python 3",
   "language": "python",
   "name": "python3"
  },
  "language_info": {
   "codemirror_mode": {
    "name": "ipython",
    "version": 3
   },
   "file_extension": ".py",
   "mimetype": "text/x-python",
   "name": "python",
   "nbconvert_exporter": "python",
   "pygments_lexer": "ipython3",
   "version": "3.12.4"
  }
 },
 "nbformat": 4,
 "nbformat_minor": 2
}
